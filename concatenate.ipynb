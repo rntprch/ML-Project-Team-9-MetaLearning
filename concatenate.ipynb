{
 "cells": [
  {
   "cell_type": "code",
   "execution_count": 38,
   "metadata": {},
   "outputs": [],
   "source": [
    "import pandas as pd\n",
    "import glob\n",
    "import numpy as np"
   ]
  },
  {
   "cell_type": "code",
   "execution_count": 30,
   "metadata": {},
   "outputs": [],
   "source": [
    "def concatenate_csv_files(folder_path, output_file, exclude_column_name):\n",
    "    \"\"\"\n",
    "    Concatenates CSV files in a folder, dropping the first column and handling\n",
    "    different column lengths.\n",
    "\n",
    "    Args:\n",
    "        folder_path (str): Path to the folder containing CSV files.\n",
    "        output_file (str): Path to the output CSV file.\n",
    "    \"\"\"\n",
    "\n",
    "    all_files = glob.glob(f\"{folder_path}/*.csv\")  # Find all CSV files in the folder\n",
    "\n",
    "    if not all_files:\n",
    "        raise FileNotFoundError(f\"No CSV files found in the folder: {folder_path}\")\n",
    "\n",
    "    concatenated_df = pd.DataFrame()\n",
    "\n",
    "    for filename in all_files:\n",
    "        # Load the CSV file, excluding the specified column by name\n",
    "        temp_df = pd.read_csv(filename).drop(columns=[exclude_column_name], errors='ignore')\n",
    "        # Concatenate this file's data side-by-side with previous files' data\n",
    "        concatenated_df = pd.concat([concatenated_df, temp_df], axis=1)\n",
    "        # Finding and dropping columns \"Unnamed\" and \"Date\"\n",
    "        cols_to_drop = [col for col in concatenated_df.columns if col.startswith('Unnamed') or col.startswith('date')]\n",
    "        concatenated_df.drop(columns=cols_to_drop, errors='ignore', inplace=True)\n",
    "    \n",
    "    # Fill NaN values with linear interpolation\n",
    "    concatenated_df.interpolate(method='linear', inplace=True, limit_direction='forward', axis=0)\n",
    "\n",
    "    #Save the concatenated DataFrame to a new CSV file\n",
    "    concatenated_df.to_csv(output_file, index=False)"
   ]
  },
  {
   "cell_type": "code",
   "execution_count": 31,
   "metadata": {},
   "outputs": [],
   "source": [
    "# Example usage:\n",
    "paths_in = ['data/time_series/danish_atm_daily', \n",
    "            'data/time_series/mipt_alpha',\n",
    "            'data/time_series/nn5']\n",
    "paths_out = ['data/danish_atm_daily.csv', \n",
    "            'data/mipt_alpha.csv',\n",
    "            'data/nn5.csv']"
   ]
  },
  {
   "cell_type": "code",
   "execution_count": 32,
   "metadata": {},
   "outputs": [],
   "source": [
    "for path, name in zip(paths_in, paths_out):\n",
    "    concatenate_csv_files(path, name, ['date'])"
   ]
  },
  {
   "cell_type": "code",
   "execution_count": 40,
   "metadata": {},
   "outputs": [
    {
     "name": "stdout",
     "output_type": "stream",
     "text": [
      "There are no NaNs in data/danish_atm_daily.csv\n",
      "There are no NaNs in data/mipt_alpha.csv\n",
      "There are no NaNs in data/nn5.csv\n"
     ]
    }
   ],
   "source": [
    "#Checking for NaNs\n",
    "for name in paths_out:\n",
    "    df = pd.read_csv(name)\n",
    "    if np.array(df.isna().sum()).sum() != 0:\n",
    "        print(f'There are NaNs in {name}')\n",
    "    else:\n",
    "        print(f'There are no NaNs in {name}')"
   ]
  }
 ],
 "metadata": {
  "kernelspec": {
   "display_name": "base",
   "language": "python",
   "name": "python3"
  },
  "language_info": {
   "codemirror_mode": {
    "name": "ipython",
    "version": 3
   },
   "file_extension": ".py",
   "mimetype": "text/x-python",
   "name": "python",
   "nbconvert_exporter": "python",
   "pygments_lexer": "ipython3",
   "version": "3.11.5"
  }
 },
 "nbformat": 4,
 "nbformat_minor": 2
}
