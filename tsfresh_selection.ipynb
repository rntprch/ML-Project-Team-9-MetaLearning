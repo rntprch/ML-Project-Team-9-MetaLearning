{
 "cells": [
  {
   "cell_type": "code",
   "execution_count": 3,
   "metadata": {},
   "outputs": [],
   "source": [
    "# !pip install tsfresh"
   ]
  },
  {
   "cell_type": "code",
   "execution_count": 40,
   "metadata": {},
   "outputs": [],
   "source": [
    "import numpy as np\n",
    "import pandas as pd\n",
    "import matplotlib.pyplot as plt\n",
    "import seaborn as sns\n",
    "from tsfresh.utilities.dataframe_functions import roll_time_series\n"
   ]
  },
  {
   "cell_type": "code",
   "execution_count": 17,
   "metadata": {},
   "outputs": [],
   "source": [
    "danish_df = pd.read_csv('data\\danish_atm_daily.csv')\n",
    "mipt_df = pd.read_csv('data\\mipt_alpha.csv')\n",
    "nn5_df = pd.read_csv('data/nn5.csv')"
   ]
  },
  {
   "cell_type": "code",
   "execution_count": 18,
   "metadata": {},
   "outputs": [
    {
     "data": {
      "text/html": [
       "<div>\n",
       "<style scoped>\n",
       "    .dataframe tbody tr th:only-of-type {\n",
       "        vertical-align: middle;\n",
       "    }\n",
       "\n",
       "    .dataframe tbody tr th {\n",
       "        vertical-align: top;\n",
       "    }\n",
       "\n",
       "    .dataframe thead th {\n",
       "        text-align: right;\n",
       "    }\n",
       "</style>\n",
       "<table border=\"1\" class=\"dataframe\">\n",
       "  <thead>\n",
       "    <tr style=\"text-align: right;\">\n",
       "      <th></th>\n",
       "      <th>value</th>\n",
       "      <th>value.1</th>\n",
       "      <th>value.2</th>\n",
       "      <th>value.3</th>\n",
       "      <th>value.4</th>\n",
       "      <th>value.5</th>\n",
       "      <th>value.6</th>\n",
       "      <th>value.7</th>\n",
       "      <th>value.8</th>\n",
       "      <th>value.9</th>\n",
       "      <th>...</th>\n",
       "      <th>value.103</th>\n",
       "      <th>value.104</th>\n",
       "      <th>value.105</th>\n",
       "      <th>value.106</th>\n",
       "      <th>value.107</th>\n",
       "      <th>value.108</th>\n",
       "      <th>value.109</th>\n",
       "      <th>value.110</th>\n",
       "      <th>value.111</th>\n",
       "      <th>value.112</th>\n",
       "    </tr>\n",
       "  </thead>\n",
       "  <tbody>\n",
       "    <tr>\n",
       "      <th>0</th>\n",
       "      <td>68.0</td>\n",
       "      <td>126.0</td>\n",
       "      <td>73.0</td>\n",
       "      <td>62.0</td>\n",
       "      <td>85.0</td>\n",
       "      <td>45.0</td>\n",
       "      <td>102.0</td>\n",
       "      <td>26.0</td>\n",
       "      <td>4.0</td>\n",
       "      <td>4.0</td>\n",
       "      <td>...</td>\n",
       "      <td>105.0</td>\n",
       "      <td>119.0</td>\n",
       "      <td>27.0</td>\n",
       "      <td>46.0</td>\n",
       "      <td>27.0</td>\n",
       "      <td>2.0</td>\n",
       "      <td>8.0</td>\n",
       "      <td>6.0</td>\n",
       "      <td>1.0</td>\n",
       "      <td>71.0</td>\n",
       "    </tr>\n",
       "    <tr>\n",
       "      <th>1</th>\n",
       "      <td>130.0</td>\n",
       "      <td>0.0</td>\n",
       "      <td>102.0</td>\n",
       "      <td>50.0</td>\n",
       "      <td>75.0</td>\n",
       "      <td>35.0</td>\n",
       "      <td>96.0</td>\n",
       "      <td>40.0</td>\n",
       "      <td>0.0</td>\n",
       "      <td>0.0</td>\n",
       "      <td>...</td>\n",
       "      <td>72.0</td>\n",
       "      <td>79.0</td>\n",
       "      <td>41.0</td>\n",
       "      <td>17.0</td>\n",
       "      <td>8.0</td>\n",
       "      <td>2.0</td>\n",
       "      <td>9.0</td>\n",
       "      <td>6.0</td>\n",
       "      <td>0.0</td>\n",
       "      <td>61.0</td>\n",
       "    </tr>\n",
       "    <tr>\n",
       "      <th>2</th>\n",
       "      <td>142.0</td>\n",
       "      <td>0.0</td>\n",
       "      <td>100.0</td>\n",
       "      <td>51.0</td>\n",
       "      <td>72.0</td>\n",
       "      <td>41.0</td>\n",
       "      <td>107.0</td>\n",
       "      <td>44.0</td>\n",
       "      <td>0.0</td>\n",
       "      <td>0.0</td>\n",
       "      <td>...</td>\n",
       "      <td>18.0</td>\n",
       "      <td>41.0</td>\n",
       "      <td>35.0</td>\n",
       "      <td>24.0</td>\n",
       "      <td>7.0</td>\n",
       "      <td>4.0</td>\n",
       "      <td>6.0</td>\n",
       "      <td>8.0</td>\n",
       "      <td>0.0</td>\n",
       "      <td>74.0</td>\n",
       "    </tr>\n",
       "    <tr>\n",
       "      <th>3</th>\n",
       "      <td>101.0</td>\n",
       "      <td>144.0</td>\n",
       "      <td>95.0</td>\n",
       "      <td>37.0</td>\n",
       "      <td>71.0</td>\n",
       "      <td>0.0</td>\n",
       "      <td>0.0</td>\n",
       "      <td>0.0</td>\n",
       "      <td>0.0</td>\n",
       "      <td>0.0</td>\n",
       "      <td>...</td>\n",
       "      <td>27.0</td>\n",
       "      <td>47.0</td>\n",
       "      <td>36.0</td>\n",
       "      <td>31.0</td>\n",
       "      <td>7.0</td>\n",
       "      <td>6.0</td>\n",
       "      <td>7.0</td>\n",
       "      <td>19.0</td>\n",
       "      <td>0.0</td>\n",
       "      <td>0.0</td>\n",
       "    </tr>\n",
       "    <tr>\n",
       "      <th>4</th>\n",
       "      <td>120.0</td>\n",
       "      <td>112.0</td>\n",
       "      <td>83.0</td>\n",
       "      <td>34.0</td>\n",
       "      <td>33.0</td>\n",
       "      <td>0.0</td>\n",
       "      <td>0.0</td>\n",
       "      <td>0.0</td>\n",
       "      <td>0.0</td>\n",
       "      <td>0.0</td>\n",
       "      <td>...</td>\n",
       "      <td>40.0</td>\n",
       "      <td>53.0</td>\n",
       "      <td>19.0</td>\n",
       "      <td>32.0</td>\n",
       "      <td>8.0</td>\n",
       "      <td>4.0</td>\n",
       "      <td>5.0</td>\n",
       "      <td>24.0</td>\n",
       "      <td>11.0</td>\n",
       "      <td>0.0</td>\n",
       "    </tr>\n",
       "    <tr>\n",
       "      <th>5</th>\n",
       "      <td>124.0</td>\n",
       "      <td>119.0</td>\n",
       "      <td>107.0</td>\n",
       "      <td>32.0</td>\n",
       "      <td>65.0</td>\n",
       "      <td>41.0</td>\n",
       "      <td>73.0</td>\n",
       "      <td>28.0</td>\n",
       "      <td>9.0</td>\n",
       "      <td>9.0</td>\n",
       "      <td>...</td>\n",
       "      <td>0.0</td>\n",
       "      <td>0.0</td>\n",
       "      <td>0.0</td>\n",
       "      <td>0.0</td>\n",
       "      <td>0.0</td>\n",
       "      <td>0.0</td>\n",
       "      <td>0.0</td>\n",
       "      <td>0.0</td>\n",
       "      <td>0.0</td>\n",
       "      <td>62.0</td>\n",
       "    </tr>\n",
       "    <tr>\n",
       "      <th>6</th>\n",
       "      <td>100.0</td>\n",
       "      <td>93.0</td>\n",
       "      <td>86.0</td>\n",
       "      <td>22.0</td>\n",
       "      <td>59.0</td>\n",
       "      <td>37.0</td>\n",
       "      <td>50.0</td>\n",
       "      <td>11.0</td>\n",
       "      <td>11.0</td>\n",
       "      <td>5.0</td>\n",
       "      <td>...</td>\n",
       "      <td>0.0</td>\n",
       "      <td>0.0</td>\n",
       "      <td>0.0</td>\n",
       "      <td>0.0</td>\n",
       "      <td>0.0</td>\n",
       "      <td>2.0</td>\n",
       "      <td>0.0</td>\n",
       "      <td>0.0</td>\n",
       "      <td>0.0</td>\n",
       "      <td>43.0</td>\n",
       "    </tr>\n",
       "    <tr>\n",
       "      <th>7</th>\n",
       "      <td>94.0</td>\n",
       "      <td>79.0</td>\n",
       "      <td>62.0</td>\n",
       "      <td>30.0</td>\n",
       "      <td>38.0</td>\n",
       "      <td>20.0</td>\n",
       "      <td>42.0</td>\n",
       "      <td>13.0</td>\n",
       "      <td>6.0</td>\n",
       "      <td>14.0</td>\n",
       "      <td>...</td>\n",
       "      <td>25.0</td>\n",
       "      <td>38.0</td>\n",
       "      <td>28.0</td>\n",
       "      <td>38.0</td>\n",
       "      <td>3.0</td>\n",
       "      <td>2.0</td>\n",
       "      <td>8.0</td>\n",
       "      <td>2.0</td>\n",
       "      <td>17.0</td>\n",
       "      <td>44.0</td>\n",
       "    </tr>\n",
       "    <tr>\n",
       "      <th>8</th>\n",
       "      <td>88.0</td>\n",
       "      <td>94.0</td>\n",
       "      <td>102.0</td>\n",
       "      <td>36.0</td>\n",
       "      <td>82.0</td>\n",
       "      <td>45.0</td>\n",
       "      <td>69.0</td>\n",
       "      <td>24.0</td>\n",
       "      <td>0.0</td>\n",
       "      <td>16.0</td>\n",
       "      <td>...</td>\n",
       "      <td>16.0</td>\n",
       "      <td>33.0</td>\n",
       "      <td>23.0</td>\n",
       "      <td>18.0</td>\n",
       "      <td>7.0</td>\n",
       "      <td>8.0</td>\n",
       "      <td>3.0</td>\n",
       "      <td>4.0</td>\n",
       "      <td>7.0</td>\n",
       "      <td>48.0</td>\n",
       "    </tr>\n",
       "    <tr>\n",
       "      <th>9</th>\n",
       "      <td>98.0</td>\n",
       "      <td>108.0</td>\n",
       "      <td>83.0</td>\n",
       "      <td>42.0</td>\n",
       "      <td>76.0</td>\n",
       "      <td>49.0</td>\n",
       "      <td>88.0</td>\n",
       "      <td>42.0</td>\n",
       "      <td>0.0</td>\n",
       "      <td>6.0</td>\n",
       "      <td>...</td>\n",
       "      <td>17.0</td>\n",
       "      <td>25.0</td>\n",
       "      <td>14.0</td>\n",
       "      <td>17.0</td>\n",
       "      <td>1.0</td>\n",
       "      <td>5.0</td>\n",
       "      <td>5.0</td>\n",
       "      <td>5.0</td>\n",
       "      <td>8.0</td>\n",
       "      <td>66.0</td>\n",
       "    </tr>\n",
       "  </tbody>\n",
       "</table>\n",
       "<p>10 rows × 113 columns</p>\n",
       "</div>"
      ],
      "text/plain": [
       "   value  value.1  value.2  value.3  value.4  value.5  value.6  value.7  \\\n",
       "0   68.0    126.0     73.0     62.0     85.0     45.0    102.0     26.0   \n",
       "1  130.0      0.0    102.0     50.0     75.0     35.0     96.0     40.0   \n",
       "2  142.0      0.0    100.0     51.0     72.0     41.0    107.0     44.0   \n",
       "3  101.0    144.0     95.0     37.0     71.0      0.0      0.0      0.0   \n",
       "4  120.0    112.0     83.0     34.0     33.0      0.0      0.0      0.0   \n",
       "5  124.0    119.0    107.0     32.0     65.0     41.0     73.0     28.0   \n",
       "6  100.0     93.0     86.0     22.0     59.0     37.0     50.0     11.0   \n",
       "7   94.0     79.0     62.0     30.0     38.0     20.0     42.0     13.0   \n",
       "8   88.0     94.0    102.0     36.0     82.0     45.0     69.0     24.0   \n",
       "9   98.0    108.0     83.0     42.0     76.0     49.0     88.0     42.0   \n",
       "\n",
       "   value.8  value.9  ...  value.103  value.104  value.105  value.106  \\\n",
       "0      4.0      4.0  ...      105.0      119.0       27.0       46.0   \n",
       "1      0.0      0.0  ...       72.0       79.0       41.0       17.0   \n",
       "2      0.0      0.0  ...       18.0       41.0       35.0       24.0   \n",
       "3      0.0      0.0  ...       27.0       47.0       36.0       31.0   \n",
       "4      0.0      0.0  ...       40.0       53.0       19.0       32.0   \n",
       "5      9.0      9.0  ...        0.0        0.0        0.0        0.0   \n",
       "6     11.0      5.0  ...        0.0        0.0        0.0        0.0   \n",
       "7      6.0     14.0  ...       25.0       38.0       28.0       38.0   \n",
       "8      0.0     16.0  ...       16.0       33.0       23.0       18.0   \n",
       "9      0.0      6.0  ...       17.0       25.0       14.0       17.0   \n",
       "\n",
       "   value.107  value.108  value.109  value.110  value.111  value.112  \n",
       "0       27.0        2.0        8.0        6.0        1.0       71.0  \n",
       "1        8.0        2.0        9.0        6.0        0.0       61.0  \n",
       "2        7.0        4.0        6.0        8.0        0.0       74.0  \n",
       "3        7.0        6.0        7.0       19.0        0.0        0.0  \n",
       "4        8.0        4.0        5.0       24.0       11.0        0.0  \n",
       "5        0.0        0.0        0.0        0.0        0.0       62.0  \n",
       "6        0.0        2.0        0.0        0.0        0.0       43.0  \n",
       "7        3.0        2.0        8.0        2.0       17.0       44.0  \n",
       "8        7.0        8.0        3.0        4.0        7.0       48.0  \n",
       "9        1.0        5.0        5.0        5.0        8.0       66.0  \n",
       "\n",
       "[10 rows x 113 columns]"
      ]
     },
     "execution_count": 18,
     "metadata": {},
     "output_type": "execute_result"
    }
   ],
   "source": [
    "danish_df.head(10)"
   ]
  },
  {
   "cell_type": "code",
   "execution_count": 72,
   "metadata": {},
   "outputs": [
    {
     "data": {
      "text/plain": [
       "(365, 113)"
      ]
     },
     "execution_count": 72,
     "metadata": {},
     "output_type": "execute_result"
    }
   ],
   "source": [
    "danish_df.shape"
   ]
  },
  {
   "cell_type": "code",
   "execution_count": 85,
   "metadata": {},
   "outputs": [],
   "source": [
    "danish_combined = pd.DataFrame({'value': danish_df.stack().reset_index(drop=True).astype('float')})"
   ]
  },
  {
   "cell_type": "code",
   "execution_count": 86,
   "metadata": {},
   "outputs": [
    {
     "data": {
      "text/plain": [
       "value    float64\n",
       "dtype: object"
      ]
     },
     "execution_count": 86,
     "metadata": {},
     "output_type": "execute_result"
    }
   ],
   "source": [
    "danish_combined.dtypes"
   ]
  },
  {
   "cell_type": "code",
   "execution_count": 87,
   "metadata": {},
   "outputs": [
    {
     "data": {
      "text/plain": [
       "[<matplotlib.lines.Line2D at 0x1f7bc3bbed0>]"
      ]
     },
     "execution_count": 87,
     "metadata": {},
     "output_type": "execute_result"
    },
    {
     "data": {
      "image/png": "[encoded data removed]",
      "text/plain": [
       "<Figure size 640x480 with 1 Axes>"
      ]
     },
     "metadata": {},
     "output_type": "display_data"
    }
   ],
   "source": [
    "plt.plot(danish_combined)"
   ]
  },
  {
   "cell_type": "code",
   "execution_count": 88,
   "metadata": {},
   "outputs": [],
   "source": [
    "danish_combined = danish_combined[danish_combined.value<500]"
   ]
  },
  {
   "cell_type": "code",
   "execution_count": 89,
   "metadata": {},
   "outputs": [
    {
     "data": {
      "text/plain": [
       "[<matplotlib.lines.Line2D at 0x1f7c849c110>]"
      ]
     },
     "execution_count": 89,
     "metadata": {},
     "output_type": "execute_result"
    },
    {
     "data": {
      "image/png": "[encoded data removed]",
      "text/plain": [
       "<Figure size 640x480 with 1 Axes>"
      ]
     },
     "metadata": {},
     "output_type": "display_data"
    }
   ],
   "source": [
    "plt.plot(danish_combined)"
   ]
  },
  {
   "cell_type": "code",
   "execution_count": 97,
   "metadata": {},
   "outputs": [
    {
     "data": {
      "text/plain": [
       "pandas.core.frame.DataFrame"
      ]
     },
     "execution_count": 97,
     "metadata": {},
     "output_type": "execute_result"
    }
   ],
   "source": [
    "type(danish_combined)"
   ]
  },
  {
   "cell_type": "code",
   "execution_count": 100,
   "metadata": {},
   "outputs": [
    {
     "name": "stderr",
     "output_type": "stream",
     "text": [
      "Feature Extraction:   0%|          | 0/1 [02:17<?, ?it/s]\n"
     ]
    },
    {
     "ename": "MemoryError",
     "evalue": "Unable to allocate 25.3 GiB for an array with shape (41241, 41241, 2) and data type float64",
     "output_type": "error",
     "traceback": [
      "\u001b[1;31m---------------------------------------------------------------------------\u001b[0m",
      "\u001b[1;31mRemoteTraceback\u001b[0m                           Traceback (most recent call last)",
      "\u001b[1;31mRemoteTraceback\u001b[0m: \n\"\"\"\nTraceback (most recent call last):\n  File \"c:\\ProgramData\\anaconda3\\Lib\\multiprocessing\\pool.py\", line 125, in worker\n    result = (True, func(*args, **kwds))\n                    ^^^^^^^^^^^^^^^^^^^\n  File \"C:\\Users\\rinat\\AppData\\Roaming\\Python\\Python311\\site-packages\\tsfresh\\utilities\\distribution.py\", line 43, in _function_with_partly_reduce\n    results = list(itertools.chain.from_iterable(results))\n              ^^^^^^^^^^^^^^^^^^^^^^^^^^^^^^^^^^^^^^^^^^^^\n  File \"C:\\Users\\rinat\\AppData\\Roaming\\Python\\Python311\\site-packages\\tsfresh\\utilities\\distribution.py\", line 42, in <genexpr>\n    results = (map_function(chunk, **kwargs) for chunk in chunk_list)\n               ^^^^^^^^^^^^^^^^^^^^^^^^^^^^^\n  File \"C:\\Users\\rinat\\AppData\\Roaming\\Python\\Python311\\site-packages\\tsfresh\\feature_extraction\\extraction.py\", line 386, in _do_extraction_on_chunk\n    return list(_f())\n           ^^^^^^^^^^\n  File \"C:\\Users\\rinat\\AppData\\Roaming\\Python\\Python311\\site-packages\\tsfresh\\feature_extraction\\extraction.py\", line 374, in _f\n    for key, item in result:\n  File \"C:\\Users\\rinat\\AppData\\Roaming\\Python\\Python311\\site-packages\\tsfresh\\feature_extraction\\extraction.py\", line 368, in <genexpr>\n    (convert_to_output_format(param), func(x, **param))\n                                      ^^^^^^^^^^^^^^^^\n  File \"C:\\Users\\rinat\\AppData\\Roaming\\Python\\Python311\\site-packages\\tsfresh\\feature_extraction\\feature_calculators.py\", line 1790, in approximate_entropy\n    return np.abs(_phi(m) - _phi(m + 1))\n                  ^^^^^^^\n  File \"C:\\Users\\rinat\\AppData\\Roaming\\Python\\Python311\\site-packages\\tsfresh\\feature_extraction\\feature_calculators.py\", line 1785, in _phi\n    np.max(np.abs(x_re[:, np.newaxis] - x_re[np.newaxis, :]), axis=2) <= r,\n           ^^^^^^^^^^^^^^^^^^^^^^^^^^^^^^^^^^^^^^^^^^^^^^^^^\nnumpy.core._exceptions._ArrayMemoryError: Unable to allocate 25.3 GiB for an array with shape (41241, 41241, 2) and data type float64\n\"\"\"",
      "\nThe above exception was the direct cause of the following exception:\n",
      "\u001b[1;31mMemoryError\u001b[0m                               Traceback (most recent call last)",
      "Cell \u001b[1;32mIn[100], line 4\u001b[0m\n\u001b[0;32m      2\u001b[0m danish_extarct \u001b[38;5;241m=\u001b[39m danish_combined\u001b[38;5;241m.\u001b[39mcopy()\n\u001b[0;32m      3\u001b[0m danish_extarct[\u001b[38;5;124m'\u001b[39m\u001b[38;5;124mid\u001b[39m\u001b[38;5;124m'\u001b[39m] \u001b[38;5;241m=\u001b[39m \u001b[38;5;241m1\u001b[39m\n\u001b[1;32m----> 4\u001b[0m extracted_features \u001b[38;5;241m=\u001b[39m extract_features(danish_extarct, column_id\u001b[38;5;241m=\u001b[39m\u001b[38;5;124m'\u001b[39m\u001b[38;5;124mid\u001b[39m\u001b[38;5;124m'\u001b[39m , column_sort\u001b[38;5;241m=\u001b[39m\u001b[38;5;28;01mNone\u001b[39;00m)\n",
      "File \u001b[1;32m~\\AppData\\Roaming\\Python\\Python311\\site-packages\\tsfresh\\feature_extraction\\extraction.py:164\u001b[0m, in \u001b[0;36mextract_features\u001b[1;34m(timeseries_container, default_fc_parameters, kind_to_fc_parameters, column_id, column_sort, column_kind, column_value, chunksize, n_jobs, show_warnings, disable_progressbar, impute_function, profile, profiling_filename, profiling_sorting, distributor, pivot)\u001b[0m\n\u001b[0;32m    161\u001b[0m \u001b[38;5;28;01melse\u001b[39;00m:\n\u001b[0;32m    162\u001b[0m     warnings\u001b[38;5;241m.\u001b[39msimplefilter(\u001b[38;5;124m\"\u001b[39m\u001b[38;5;124mdefault\u001b[39m\u001b[38;5;124m\"\u001b[39m)\n\u001b[1;32m--> 164\u001b[0m result \u001b[38;5;241m=\u001b[39m _do_extraction(\n\u001b[0;32m    165\u001b[0m     df\u001b[38;5;241m=\u001b[39mtimeseries_container,\n\u001b[0;32m    166\u001b[0m     column_id\u001b[38;5;241m=\u001b[39mcolumn_id,\n\u001b[0;32m    167\u001b[0m     column_value\u001b[38;5;241m=\u001b[39mcolumn_value,\n\u001b[0;32m    168\u001b[0m     column_kind\u001b[38;5;241m=\u001b[39mcolumn_kind,\n\u001b[0;32m    169\u001b[0m     column_sort\u001b[38;5;241m=\u001b[39mcolumn_sort,\n\u001b[0;32m    170\u001b[0m     n_jobs\u001b[38;5;241m=\u001b[39mn_jobs,\n\u001b[0;32m    171\u001b[0m     chunk_size\u001b[38;5;241m=\u001b[39mchunksize,\n\u001b[0;32m    172\u001b[0m     disable_progressbar\u001b[38;5;241m=\u001b[39mdisable_progressbar,\n\u001b[0;32m    173\u001b[0m     show_warnings\u001b[38;5;241m=\u001b[39mshow_warnings,\n\u001b[0;32m    174\u001b[0m     default_fc_parameters\u001b[38;5;241m=\u001b[39mdefault_fc_parameters,\n\u001b[0;32m    175\u001b[0m     kind_to_fc_parameters\u001b[38;5;241m=\u001b[39mkind_to_fc_parameters,\n\u001b[0;32m    176\u001b[0m     distributor\u001b[38;5;241m=\u001b[39mdistributor,\n\u001b[0;32m    177\u001b[0m     pivot\u001b[38;5;241m=\u001b[39mpivot,\n\u001b[0;32m    178\u001b[0m )\n\u001b[0;32m    180\u001b[0m \u001b[38;5;66;03m# Impute the result if requested\u001b[39;00m\n\u001b[0;32m    181\u001b[0m \u001b[38;5;28;01mif\u001b[39;00m impute_function \u001b[38;5;129;01mis\u001b[39;00m \u001b[38;5;129;01mnot\u001b[39;00m \u001b[38;5;28;01mNone\u001b[39;00m:\n",
      "File \u001b[1;32m~\\AppData\\Roaming\\Python\\Python311\\site-packages\\tsfresh\\feature_extraction\\extraction.py:294\u001b[0m, in \u001b[0;36m_do_extraction\u001b[1;34m(df, column_id, column_value, column_kind, column_sort, default_fc_parameters, kind_to_fc_parameters, n_jobs, chunk_size, disable_progressbar, show_warnings, distributor, pivot)\u001b[0m\n\u001b[0;32m    286\u001b[0m     \u001b[38;5;28;01mraise\u001b[39;00m \u001b[38;5;167;01mValueError\u001b[39;00m(\u001b[38;5;124m\"\u001b[39m\u001b[38;5;124mthe passed distributor is not an DistributorBaseClass object\u001b[39m\u001b[38;5;124m\"\u001b[39m)\n\u001b[0;32m    288\u001b[0m kwargs \u001b[38;5;241m=\u001b[39m \u001b[38;5;28mdict\u001b[39m(\n\u001b[0;32m    289\u001b[0m     default_fc_parameters\u001b[38;5;241m=\u001b[39mdefault_fc_parameters,\n\u001b[0;32m    290\u001b[0m     kind_to_fc_parameters\u001b[38;5;241m=\u001b[39mkind_to_fc_parameters,\n\u001b[0;32m    291\u001b[0m     show_warnings\u001b[38;5;241m=\u001b[39mshow_warnings,\n\u001b[0;32m    292\u001b[0m )\n\u001b[1;32m--> 294\u001b[0m result \u001b[38;5;241m=\u001b[39m distributor\u001b[38;5;241m.\u001b[39mmap_reduce(\n\u001b[0;32m    295\u001b[0m     _do_extraction_on_chunk,\n\u001b[0;32m    296\u001b[0m     data\u001b[38;5;241m=\u001b[39mdata,\n\u001b[0;32m    297\u001b[0m     chunk_size\u001b[38;5;241m=\u001b[39mchunk_size,\n\u001b[0;32m    298\u001b[0m     function_kwargs\u001b[38;5;241m=\u001b[39mkwargs,\n\u001b[0;32m    299\u001b[0m )\n\u001b[0;32m    301\u001b[0m \u001b[38;5;28;01mif\u001b[39;00m \u001b[38;5;129;01mnot\u001b[39;00m pivot:\n\u001b[0;32m    302\u001b[0m     \u001b[38;5;28;01mreturn\u001b[39;00m result\n",
      "File \u001b[1;32m~\\AppData\\Roaming\\Python\\Python311\\site-packages\\tsfresh\\utilities\\distribution.py:241\u001b[0m, in \u001b[0;36mIterableDistributorBaseClass.map_reduce\u001b[1;34m(self, map_function, data, function_kwargs, chunk_size, data_length)\u001b[0m\n\u001b[0;32m    234\u001b[0m \u001b[38;5;28;01melse\u001b[39;00m:\n\u001b[0;32m    235\u001b[0m     result \u001b[38;5;241m=\u001b[39m (\n\u001b[0;32m    236\u001b[0m         \u001b[38;5;28mself\u001b[39m\u001b[38;5;241m.\u001b[39mdistribute(\n\u001b[0;32m    237\u001b[0m             _function_with_partly_reduce, chunk_generator, map_kwargs\n\u001b[0;32m    238\u001b[0m         ),\n\u001b[0;32m    239\u001b[0m     )\n\u001b[1;32m--> 241\u001b[0m result \u001b[38;5;241m=\u001b[39m \u001b[38;5;28mlist\u001b[39m(itertools\u001b[38;5;241m.\u001b[39mchain\u001b[38;5;241m.\u001b[39mfrom_iterable(result))\n\u001b[0;32m    243\u001b[0m \u001b[38;5;28mself\u001b[39m\u001b[38;5;241m.\u001b[39mclose()\n\u001b[0;32m    245\u001b[0m \u001b[38;5;28;01mreturn\u001b[39;00m result\n",
      "File \u001b[1;32mc:\\ProgramData\\anaconda3\\Lib\\site-packages\\tqdm\\std.py:1178\u001b[0m, in \u001b[0;36mtqdm.__iter__\u001b[1;34m(self)\u001b[0m\n\u001b[0;32m   1175\u001b[0m time \u001b[38;5;241m=\u001b[39m \u001b[38;5;28mself\u001b[39m\u001b[38;5;241m.\u001b[39m_time\n\u001b[0;32m   1177\u001b[0m \u001b[38;5;28;01mtry\u001b[39;00m:\n\u001b[1;32m-> 1178\u001b[0m     \u001b[38;5;28;01mfor\u001b[39;00m obj \u001b[38;5;129;01min\u001b[39;00m iterable:\n\u001b[0;32m   1179\u001b[0m         \u001b[38;5;28;01myield\u001b[39;00m obj\n\u001b[0;32m   1180\u001b[0m         \u001b[38;5;66;03m# Update and possibly print the progressbar.\u001b[39;00m\n\u001b[0;32m   1181\u001b[0m         \u001b[38;5;66;03m# Note: does not call self.update(1) for speed optimisation.\u001b[39;00m\n",
      "File \u001b[1;32mc:\\ProgramData\\anaconda3\\Lib\\multiprocessing\\pool.py:873\u001b[0m, in \u001b[0;36mIMapIterator.next\u001b[1;34m(self, timeout)\u001b[0m\n\u001b[0;32m    871\u001b[0m \u001b[38;5;28;01mif\u001b[39;00m success:\n\u001b[0;32m    872\u001b[0m     \u001b[38;5;28;01mreturn\u001b[39;00m value\n\u001b[1;32m--> 873\u001b[0m \u001b[38;5;28;01mraise\u001b[39;00m value\n",
      "File \u001b[1;32mc:\\ProgramData\\anaconda3\\Lib\\multiprocessing\\pool.py:125\u001b[0m, in \u001b[0;36mworker\u001b[1;34m()\u001b[0m\n\u001b[0;32m    123\u001b[0m job, i, func, args, kwds \u001b[38;5;241m=\u001b[39m task\n\u001b[0;32m    124\u001b[0m \u001b[38;5;28;01mtry\u001b[39;00m:\n\u001b[1;32m--> 125\u001b[0m     result \u001b[38;5;241m=\u001b[39m (\u001b[38;5;28;01mTrue\u001b[39;00m, func(\u001b[38;5;241m*\u001b[39margs, \u001b[38;5;241m*\u001b[39m\u001b[38;5;241m*\u001b[39mkwds))\n\u001b[0;32m    126\u001b[0m \u001b[38;5;28;01mexcept\u001b[39;00m \u001b[38;5;167;01mException\u001b[39;00m \u001b[38;5;28;01mas\u001b[39;00m e:\n\u001b[0;32m    127\u001b[0m     \u001b[38;5;28;01mif\u001b[39;00m wrap_exception \u001b[38;5;129;01mand\u001b[39;00m func \u001b[38;5;129;01mis\u001b[39;00m \u001b[38;5;129;01mnot\u001b[39;00m _helper_reraises_exception:\n",
      "File \u001b[1;32m~\\AppData\\Roaming\\Python\\Python311\\site-packages\\tsfresh\\utilities\\distribution.py:43\u001b[0m, in \u001b[0;36m_function_with_partly_reduce\u001b[1;34m()\u001b[0m\n\u001b[0;32m     41\u001b[0m kwargs \u001b[38;5;241m=\u001b[39m kwargs \u001b[38;5;129;01mor\u001b[39;00m {}\n\u001b[0;32m     42\u001b[0m results \u001b[38;5;241m=\u001b[39m (map_function(chunk, \u001b[38;5;241m*\u001b[39m\u001b[38;5;241m*\u001b[39mkwargs) \u001b[38;5;28;01mfor\u001b[39;00m chunk \u001b[38;5;129;01min\u001b[39;00m chunk_list)\n\u001b[1;32m---> 43\u001b[0m results \u001b[38;5;241m=\u001b[39m \u001b[38;5;28mlist\u001b[39m(itertools\u001b[38;5;241m.\u001b[39mchain\u001b[38;5;241m.\u001b[39mfrom_iterable(results))\n\u001b[0;32m     44\u001b[0m \u001b[38;5;28;01mreturn\u001b[39;00m results\n",
      "File \u001b[1;32m~\\AppData\\Roaming\\Python\\Python311\\site-packages\\tsfresh\\utilities\\distribution.py:42\u001b[0m, in \u001b[0;36m<genexpr>\u001b[1;34m()\u001b[0m\n\u001b[0;32m     25\u001b[0m \u001b[38;5;250m\u001b[39m\u001b[38;5;124;03m\"\"\"\u001b[39;00m\n\u001b[0;32m     26\u001b[0m \u001b[38;5;124;03mSmall helper function to call a function (map_function)\u001b[39;00m\n\u001b[0;32m     27\u001b[0m \u001b[38;5;124;03mon a list of data chunks (chunk_list) and convert the results into\u001b[39;00m\n\u001b[1;32m   (...)\u001b[0m\n\u001b[0;32m     39\u001b[0m \u001b[38;5;124;03m:rtype: list\u001b[39;00m\n\u001b[0;32m     40\u001b[0m \u001b[38;5;124;03m\"\"\"\u001b[39;00m\n\u001b[0;32m     41\u001b[0m kwargs \u001b[38;5;241m=\u001b[39m kwargs \u001b[38;5;129;01mor\u001b[39;00m {}\n\u001b[1;32m---> 42\u001b[0m results \u001b[38;5;241m=\u001b[39m (map_function(chunk, \u001b[38;5;241m*\u001b[39m\u001b[38;5;241m*\u001b[39mkwargs) \u001b[38;5;28;01mfor\u001b[39;00m chunk \u001b[38;5;129;01min\u001b[39;00m chunk_list)\n\u001b[0;32m     43\u001b[0m results \u001b[38;5;241m=\u001b[39m \u001b[38;5;28mlist\u001b[39m(itertools\u001b[38;5;241m.\u001b[39mchain\u001b[38;5;241m.\u001b[39mfrom_iterable(results))\n\u001b[0;32m     44\u001b[0m \u001b[38;5;28;01mreturn\u001b[39;00m results\n",
      "File \u001b[1;32m~\\AppData\\Roaming\\Python\\Python311\\site-packages\\tsfresh\\feature_extraction\\extraction.py:386\u001b[0m, in \u001b[0;36m_do_extraction_on_chunk\u001b[1;34m()\u001b[0m\n\u001b[0;32m    383\u001b[0m \u001b[38;5;28;01melse\u001b[39;00m:\n\u001b[0;32m    384\u001b[0m     warnings\u001b[38;5;241m.\u001b[39msimplefilter(\u001b[38;5;124m\"\u001b[39m\u001b[38;5;124mdefault\u001b[39m\u001b[38;5;124m\"\u001b[39m)\n\u001b[1;32m--> 386\u001b[0m \u001b[38;5;28;01mreturn\u001b[39;00m \u001b[38;5;28mlist\u001b[39m(_f())\n",
      "File \u001b[1;32m~\\AppData\\Roaming\\Python\\Python311\\site-packages\\tsfresh\\feature_extraction\\extraction.py:374\u001b[0m, in \u001b[0;36m_f\u001b[1;34m()\u001b[0m\n\u001b[0;32m    371\u001b[0m     \u001b[38;5;28;01melse\u001b[39;00m:\n\u001b[0;32m    372\u001b[0m         result \u001b[38;5;241m=\u001b[39m [(\u001b[38;5;124m\"\u001b[39m\u001b[38;5;124m\"\u001b[39m, func(x))]\n\u001b[1;32m--> 374\u001b[0m \u001b[38;5;28;01mfor\u001b[39;00m key, item \u001b[38;5;129;01min\u001b[39;00m result:\n\u001b[0;32m    375\u001b[0m     feature_name \u001b[38;5;241m=\u001b[39m \u001b[38;5;28mstr\u001b[39m(kind) \u001b[38;5;241m+\u001b[39m \u001b[38;5;124m\"\u001b[39m\u001b[38;5;124m__\u001b[39m\u001b[38;5;124m\"\u001b[39m \u001b[38;5;241m+\u001b[39m func\u001b[38;5;241m.\u001b[39m\u001b[38;5;18m__name__\u001b[39m\n\u001b[0;32m    376\u001b[0m     \u001b[38;5;28;01mif\u001b[39;00m key:\n",
      "File \u001b[1;32m~\\AppData\\Roaming\\Python\\Python311\\site-packages\\tsfresh\\feature_extraction\\extraction.py:368\u001b[0m, in \u001b[0;36m<genexpr>\u001b[1;34m()\u001b[0m\n\u001b[0;32m    365\u001b[0m \u001b[38;5;28;01melse\u001b[39;00m:\n\u001b[0;32m    366\u001b[0m     \u001b[38;5;28;01mif\u001b[39;00m parameter_list:\n\u001b[0;32m    367\u001b[0m         result \u001b[38;5;241m=\u001b[39m (\n\u001b[1;32m--> 368\u001b[0m             (convert_to_output_format(param), func(x, \u001b[38;5;241m*\u001b[39m\u001b[38;5;241m*\u001b[39mparam))\n\u001b[0;32m    369\u001b[0m             \u001b[38;5;28;01mfor\u001b[39;00m param \u001b[38;5;129;01min\u001b[39;00m parameter_list\n\u001b[0;32m    370\u001b[0m         )\n\u001b[0;32m    371\u001b[0m     \u001b[38;5;28;01melse\u001b[39;00m:\n\u001b[0;32m    372\u001b[0m         result \u001b[38;5;241m=\u001b[39m [(\u001b[38;5;124m\"\u001b[39m\u001b[38;5;124m\"\u001b[39m, func(x))]\n",
      "File \u001b[1;32m~\\AppData\\Roaming\\Python\\Python311\\site-packages\\tsfresh\\feature_extraction\\feature_calculators.py:1790\u001b[0m, in \u001b[0;36mapproximate_entropy\u001b[1;34m()\u001b[0m\n\u001b[0;32m   1784\u001b[0m     C \u001b[38;5;241m=\u001b[39m np\u001b[38;5;241m.\u001b[39msum(\n\u001b[0;32m   1785\u001b[0m         np\u001b[38;5;241m.\u001b[39mmax(np\u001b[38;5;241m.\u001b[39mabs(x_re[:, np\u001b[38;5;241m.\u001b[39mnewaxis] \u001b[38;5;241m-\u001b[39m x_re[np\u001b[38;5;241m.\u001b[39mnewaxis, :]), axis\u001b[38;5;241m=\u001b[39m\u001b[38;5;241m2\u001b[39m) \u001b[38;5;241m<\u001b[39m\u001b[38;5;241m=\u001b[39m r,\n\u001b[0;32m   1786\u001b[0m         axis\u001b[38;5;241m=\u001b[39m\u001b[38;5;241m0\u001b[39m,\n\u001b[0;32m   1787\u001b[0m     ) \u001b[38;5;241m/\u001b[39m (N \u001b[38;5;241m-\u001b[39m m \u001b[38;5;241m+\u001b[39m \u001b[38;5;241m1\u001b[39m)\n\u001b[0;32m   1788\u001b[0m     \u001b[38;5;28;01mreturn\u001b[39;00m np\u001b[38;5;241m.\u001b[39msum(np\u001b[38;5;241m.\u001b[39mlog(C)) \u001b[38;5;241m/\u001b[39m (N \u001b[38;5;241m-\u001b[39m m \u001b[38;5;241m+\u001b[39m \u001b[38;5;241m1.0\u001b[39m)\n\u001b[1;32m-> 1790\u001b[0m \u001b[38;5;28;01mreturn\u001b[39;00m np\u001b[38;5;241m.\u001b[39mabs(_phi(m) \u001b[38;5;241m-\u001b[39m _phi(m \u001b[38;5;241m+\u001b[39m \u001b[38;5;241m1\u001b[39m))\n",
      "File \u001b[1;32m~\\AppData\\Roaming\\Python\\Python311\\site-packages\\tsfresh\\feature_extraction\\feature_calculators.py:1785\u001b[0m, in \u001b[0;36m_phi\u001b[1;34m()\u001b[0m\n\u001b[0;32m   1782\u001b[0m \u001b[38;5;28;01mdef\u001b[39;00m \u001b[38;5;21m_phi\u001b[39m(m):\n\u001b[0;32m   1783\u001b[0m     x_re \u001b[38;5;241m=\u001b[39m np\u001b[38;5;241m.\u001b[39marray([x[i : i \u001b[38;5;241m+\u001b[39m m] \u001b[38;5;28;01mfor\u001b[39;00m i \u001b[38;5;129;01min\u001b[39;00m \u001b[38;5;28mrange\u001b[39m(N \u001b[38;5;241m-\u001b[39m m \u001b[38;5;241m+\u001b[39m \u001b[38;5;241m1\u001b[39m)])\n\u001b[0;32m   1784\u001b[0m     C \u001b[38;5;241m=\u001b[39m np\u001b[38;5;241m.\u001b[39msum(\n\u001b[1;32m-> 1785\u001b[0m         np\u001b[38;5;241m.\u001b[39mmax(np\u001b[38;5;241m.\u001b[39mabs(x_re[:, np\u001b[38;5;241m.\u001b[39mnewaxis] \u001b[38;5;241m-\u001b[39m x_re[np\u001b[38;5;241m.\u001b[39mnewaxis, :]), axis\u001b[38;5;241m=\u001b[39m\u001b[38;5;241m2\u001b[39m) \u001b[38;5;241m<\u001b[39m\u001b[38;5;241m=\u001b[39m r,\n\u001b[0;32m   1786\u001b[0m         axis\u001b[38;5;241m=\u001b[39m\u001b[38;5;241m0\u001b[39m,\n\u001b[0;32m   1787\u001b[0m     ) \u001b[38;5;241m/\u001b[39m (N \u001b[38;5;241m-\u001b[39m m \u001b[38;5;241m+\u001b[39m \u001b[38;5;241m1\u001b[39m)\n\u001b[0;32m   1788\u001b[0m     \u001b[38;5;28;01mreturn\u001b[39;00m np\u001b[38;5;241m.\u001b[39msum(np\u001b[38;5;241m.\u001b[39mlog(C)) \u001b[38;5;241m/\u001b[39m (N \u001b[38;5;241m-\u001b[39m m \u001b[38;5;241m+\u001b[39m \u001b[38;5;241m1.0\u001b[39m)\n",
      "\u001b[1;31mMemoryError\u001b[0m: Unable to allocate 25.3 GiB for an array with shape (41241, 41241, 2) and data type float64"
     ]
    }
   ],
   "source": [
    "from tsfresh import extract_features\n",
    "danish_extarct = danish_combined.copy()\n",
    "danish_extarct['id'] = 1\n",
    "extracted_features = extract_features(danish_extarct, column_id='id' , column_sort=None)"
   ]
  },
  {
   "cell_type": "code",
   "execution_count": null,
   "metadata": {},
   "outputs": [],
   "source": []
  }
 ],
 "metadata": {
  "kernelspec": {
   "display_name": "base",
   "language": "python",
   "name": "python3"
  },
  "language_info": {
   "codemirror_mode": {
    "name": "ipython",
    "version": 3
   },
   "file_extension": ".py",
   "mimetype": "text/x-python",
   "name": "python",
   "nbconvert_exporter": "python",
   "pygments_lexer": "ipython3",
   "version": "3.11.5"
  }
 },
 "nbformat": 4,
 "nbformat_minor": 2
}
