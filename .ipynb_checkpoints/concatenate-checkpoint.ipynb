{
 "cells": [
  {
   "cell_type": "code",
   "execution_count": 22,
   "metadata": {},
   "outputs": [],
   "source": [
    "import pandas as pd\n",
    "import glob\n",
    "import numpy as np\n",
    "\n",
    "import os\n",
    "import zipfile\n",
    "from tqdm import tqdm"
   ]
  },
  {
   "cell_type": "markdown",
   "metadata": {},
   "source": [
    "### Data concatenation\n",
    "\n",
    "The code below unzip intial file to the temporary folder and iterate over all available files in such way, that every folder (`nn5`, `mipt_alpha` and `danish_atm_daily`) is packed into separate dataframe, saved as .csv file. After transfer was completed, all temporary folders are removed automatically."
   ]
  },
  {
   "cell_type": "code",
   "execution_count": 23,
   "metadata": {},
   "outputs": [],
   "source": [
    "def concatenate_csv_files(folder_path, output_file, exclude_column_name):\n",
    "    \"\"\"\n",
    "    Concatenates CSV files in a folder, dropping the first column and handling\n",
    "    different column lengths.\n",
    "\n",
    "    Args:\n",
    "        folder_path (str): Path to the folder containing CSV files.\n",
    "        output_file (str): Path to the output CSV file.\n",
    "    \"\"\"\n",
    "\n",
    "    all_files = glob.glob(f\"{folder_path}/*.csv\")  # Find all CSV files in the folder\n",
    "\n",
    "    if not all_files:\n",
    "        raise FileNotFoundError(f\"No CSV files found in the folder: {folder_path}\")\n",
    "\n",
    "    concatenated_df = pd.DataFrame()\n",
    "\n",
    "    for filename in all_files:\n",
    "        # Load the CSV file, excluding the specified column by name\n",
    "        temp_df = pd.read_csv(filename).drop(columns=[exclude_column_name], errors='ignore')\n",
    "        # Concatenate this file's data side-by-side with previous files' data\n",
    "        concatenated_df = pd.concat([concatenated_df, temp_df], axis=1)\n",
    "        # Finding and dropping columns \"Unnamed\" and \"Date\"\n",
    "        cols_to_drop = [col for col in concatenated_df.columns if col.startswith('Unnamed') or col.startswith('date')]\n",
    "        concatenated_df.drop(columns=cols_to_drop, errors='ignore', inplace=True)\n",
    "        # Remove file after reading\n",
    "        os.remove(filename)\n",
    "    \n",
    "    # Fill NaN values with linear interpolation\n",
    "    concatenated_df.interpolate(method='linear', inplace=True, limit_direction='forward', axis=0)\n",
    "\n",
    "    #Save the concatenated DataFrame to a new CSV file\n",
    "    concatenated_df.to_csv(output_file, index=False)"
   ]
  },
  {
   "cell_type": "code",
   "execution_count": 24,
   "metadata": {},
   "outputs": [
    {
     "name": "stderr",
     "output_type": "stream",
     "text": [
      "100%|████████████████████████████████████████████████████████████████████████████████████| 3/3 [00:13<00:00,  4.60s/it]\n"
     ]
    }
   ],
   "source": [
    "temp_path = './data/temp'\n",
    "\n",
    "# Extract zip file to the temporary directory\n",
    "with zipfile.ZipFile('./data/time_series.zip', 'r') as zip_ref:\n",
    "    zip_ref.extractall(temp_path)\n",
    "    \n",
    "# Define all the directories for the file extractions\n",
    "dirs = os.listdir(temp_path)\n",
    "paths_in = [temp_path + '/' + dir for dir in dirs]\n",
    "paths_out = ['./data/' + dir + '.csv' for dir in dirs]\n",
    "\n",
    "for path, name in tqdm(zip(paths_in, paths_out), total=len(paths_in)):\n",
    "    concatenate_csv_files(path, name, ['date'])\n",
    "    # Remove empty folder\n",
    "    os.rmdir(path)\n",
    "    \n",
    "os.rmdir(temp_path)"
   ]
  },
  {
   "cell_type": "code",
   "execution_count": 25,
   "metadata": {},
   "outputs": [
    {
     "name": "stdout",
     "output_type": "stream",
     "text": [
      "There is no NaN in ./data/danish_atm_daily.csv\n",
      "There is no NaN in ./data/mipt_alpha.csv\n",
      "There is no NaN in ./data/nn5.csv\n"
     ]
    }
   ],
   "source": [
    "#Checking for NaNs\n",
    "for name in paths_out:\n",
    "    df = pd.read_csv(name)\n",
    "    if np.array(df.isna().sum()).sum() != 0:\n",
    "        print(f'There are NaNs in {name}')\n",
    "    else:\n",
    "        print(f'There is no NaN in {name}')"
   ]
  }
 ],
 "metadata": {
  "kernelspec": {
   "display_name": "Python 3 (ipykernel)",
   "language": "python",
   "name": "python3"
  },
  "language_info": {
   "codemirror_mode": {
    "name": "ipython",
    "version": 3
   },
   "file_extension": ".py",
   "mimetype": "text/x-python",
   "name": "python",
   "nbconvert_exporter": "python",
   "pygments_lexer": "ipython3",
   "version": "3.11.3"
  }
 },
 "nbformat": 4,
 "nbformat_minor": 4
}
